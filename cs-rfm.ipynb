{
 "cells": [
  {
   "cell_type": "code",
   "execution_count": 1,
   "id": "d91c40ef",
   "metadata": {},
   "outputs": [
    {
     "name": "stdout",
     "output_type": "stream",
     "text": [
      "Requirement already satisfied: missingno in c:\\users\\kyuta\\anaconda3\\lib\\site-packages (0.5.2)\n",
      "Requirement already satisfied: matplotlib in c:\\users\\kyuta\\anaconda3\\lib\\site-packages (from missingno) (3.7.0)\n",
      "Requirement already satisfied: seaborn in c:\\users\\kyuta\\anaconda3\\lib\\site-packages (from missingno) (0.12.2)\n",
      "Requirement already satisfied: numpy in c:\\users\\kyuta\\anaconda3\\lib\\site-packages (from missingno) (1.23.5)\n",
      "Requirement already satisfied: scipy in c:\\users\\kyuta\\anaconda3\\lib\\site-packages (from missingno) (1.10.0)\n",
      "Requirement already satisfied: python-dateutil>=2.7 in c:\\users\\kyuta\\anaconda3\\lib\\site-packages (from matplotlib->missingno) (2.8.2)\n",
      "Requirement already satisfied: kiwisolver>=1.0.1 in c:\\users\\kyuta\\anaconda3\\lib\\site-packages (from matplotlib->missingno) (1.4.4)\n",
      "Requirement already satisfied: packaging>=20.0 in c:\\users\\kyuta\\anaconda3\\lib\\site-packages (from matplotlib->missingno) (22.0)\n",
      "Requirement already satisfied: contourpy>=1.0.1 in c:\\users\\kyuta\\anaconda3\\lib\\site-packages (from matplotlib->missingno) (1.0.5)\n",
      "Requirement already satisfied: cycler>=0.10 in c:\\users\\kyuta\\anaconda3\\lib\\site-packages (from matplotlib->missingno) (0.11.0)\n",
      "Requirement already satisfied: pillow>=6.2.0 in c:\\users\\kyuta\\anaconda3\\lib\\site-packages (from matplotlib->missingno) (9.4.0)\n",
      "Requirement already satisfied: fonttools>=4.22.0 in c:\\users\\kyuta\\anaconda3\\lib\\site-packages (from matplotlib->missingno) (4.25.0)\n",
      "Requirement already satisfied: pyparsing>=2.3.1 in c:\\users\\kyuta\\anaconda3\\lib\\site-packages (from matplotlib->missingno) (3.0.9)\n",
      "Requirement already satisfied: pandas>=0.25 in c:\\users\\kyuta\\anaconda3\\lib\\site-packages (from seaborn->missingno) (1.5.3)\n",
      "Requirement already satisfied: pytz>=2020.1 in c:\\users\\kyuta\\anaconda3\\lib\\site-packages (from pandas>=0.25->seaborn->missingno) (2022.7)\n",
      "Requirement already satisfied: six>=1.5 in c:\\users\\kyuta\\anaconda3\\lib\\site-packages (from python-dateutil>=2.7->matplotlib->missingno) (1.16.0)\n",
      "Note: you may need to restart the kernel to use updated packages.\n"
     ]
    }
   ],
   "source": [
    "pip install missingno"
   ]
  },
  {
   "cell_type": "code",
   "execution_count": 2,
   "id": "eda22208",
   "metadata": {},
   "outputs": [
    {
     "name": "stdout",
     "output_type": "stream",
     "text": [
      "Requirement already satisfied: seaborn in c:\\users\\kyuta\\anaconda3\\lib\\site-packages (0.12.2)\n",
      "Requirement already satisfied: matplotlib!=3.6.1,>=3.1 in c:\\users\\kyuta\\anaconda3\\lib\\site-packages (from seaborn) (3.7.0)\n",
      "Requirement already satisfied: numpy!=1.24.0,>=1.17 in c:\\users\\kyuta\\anaconda3\\lib\\site-packages (from seaborn) (1.23.5)\n",
      "Requirement already satisfied: pandas>=0.25 in c:\\users\\kyuta\\anaconda3\\lib\\site-packages (from seaborn) (1.5.3)\n",
      "Requirement already satisfied: fonttools>=4.22.0 in c:\\users\\kyuta\\anaconda3\\lib\\site-packages (from matplotlib!=3.6.1,>=3.1->seaborn) (4.25.0)\n",
      "Requirement already satisfied: contourpy>=1.0.1 in c:\\users\\kyuta\\anaconda3\\lib\\site-packages (from matplotlib!=3.6.1,>=3.1->seaborn) (1.0.5)\n",
      "Requirement already satisfied: cycler>=0.10 in c:\\users\\kyuta\\anaconda3\\lib\\site-packages (from matplotlib!=3.6.1,>=3.1->seaborn) (0.11.0)\n",
      "Requirement already satisfied: packaging>=20.0 in c:\\users\\kyuta\\anaconda3\\lib\\site-packages (from matplotlib!=3.6.1,>=3.1->seaborn) (22.0)\n",
      "Requirement already satisfied: pyparsing>=2.3.1 in c:\\users\\kyuta\\anaconda3\\lib\\site-packages (from matplotlib!=3.6.1,>=3.1->seaborn) (3.0.9)\n",
      "Requirement already satisfied: python-dateutil>=2.7 in c:\\users\\kyuta\\anaconda3\\lib\\site-packages (from matplotlib!=3.6.1,>=3.1->seaborn) (2.8.2)\n",
      "Requirement already satisfied: pillow>=6.2.0 in c:\\users\\kyuta\\anaconda3\\lib\\site-packages (from matplotlib!=3.6.1,>=3.1->seaborn) (9.4.0)\n",
      "Requirement already satisfied: kiwisolver>=1.0.1 in c:\\users\\kyuta\\anaconda3\\lib\\site-packages (from matplotlib!=3.6.1,>=3.1->seaborn) (1.4.4)\n",
      "Requirement already satisfied: pytz>=2020.1 in c:\\users\\kyuta\\anaconda3\\lib\\site-packages (from pandas>=0.25->seaborn) (2022.7)\n",
      "Requirement already satisfied: six>=1.5 in c:\\users\\kyuta\\anaconda3\\lib\\site-packages (from python-dateutil>=2.7->matplotlib!=3.6.1,>=3.1->seaborn) (1.16.0)\n",
      "Note: you may need to restart the kernel to use updated packages.\n"
     ]
    }
   ],
   "source": [
    "pip install seaborn"
   ]
  },
  {
   "cell_type": "code",
   "execution_count": 56,
   "id": "7ebfa590",
   "metadata": {},
   "outputs": [],
   "source": [
    "import pandas as pd\n",
    "import missingno as msno\n",
    "import matplotlib.pyplot as plt\n",
    "import seaborn as sns\n",
    "from sklearn.cluster import KMeans\n",
    "from sklearn.metrics import silhouette_samples, silhouette_score\n",
    "\n",
    "from sklearn.decomposition import PCA\n",
    "from sklearn.pipeline import make_pipeline\n",
    "from sklearn.preprocessing import MinMaxScaler, StandardScaler\n",
    "\n",
    "# Set the desired display options\n",
    "pd.options.display.float_format = '{:.2f}'.format  # Show 2 decimal places"
   ]
  },
  {
   "cell_type": "code",
   "execution_count": 4,
   "id": "d29a0387",
   "metadata": {},
   "outputs": [
    {
     "name": "stdout",
     "output_type": "stream",
     "text": [
      "  Invoice StockCode                          Description  Quantity  \\\n",
      "0  489434     85048  15CM CHRISTMAS GLASS BALL 20 LIGHTS        12   \n",
      "1  489434    79323P                   PINK CHERRY LIGHTS        12   \n",
      "2  489434    79323W                  WHITE CHERRY LIGHTS        12   \n",
      "3  489434     22041         RECORD FRAME 7\" SINGLE SIZE         48   \n",
      "4  489434     21232       STRAWBERRY CERAMIC TRINKET BOX        24   \n",
      "\n",
      "           InvoiceDate  Price  Customer ID         Country  \n",
      "0  2009-12-01 07:45:00   6.95      13085.0  United Kingdom  \n",
      "1  2009-12-01 07:45:00   6.75      13085.0  United Kingdom  \n",
      "2  2009-12-01 07:45:00   6.75      13085.0  United Kingdom  \n",
      "3  2009-12-01 07:45:00   2.10      13085.0  United Kingdom  \n",
      "4  2009-12-01 07:45:00   1.25      13085.0  United Kingdom  \n"
     ]
    }
   ],
   "source": [
    "# Provide the file path of the CSV file\n",
    "file_path = 'online_retail_II.csv'\n",
    "\n",
    "# Read the CSV file using Pandas\n",
    "df = pd.read_csv(file_path)\n",
    "\n",
    "# Print the head of the DataFrame\n",
    "print(df.head())"
   ]
  },
  {
   "cell_type": "code",
   "execution_count": 5,
   "id": "dfbfc4b5",
   "metadata": {},
   "outputs": [
    {
     "name": "stdout",
     "output_type": "stream",
     "text": [
      "<class 'pandas.core.frame.DataFrame'>\n",
      "RangeIndex: 1067371 entries, 0 to 1067370\n",
      "Data columns (total 8 columns):\n",
      " #   Column       Non-Null Count    Dtype  \n",
      "---  ------       --------------    -----  \n",
      " 0   Invoice      1067371 non-null  object \n",
      " 1   StockCode    1067371 non-null  object \n",
      " 2   Description  1062989 non-null  object \n",
      " 3   Quantity     1067371 non-null  int64  \n",
      " 4   InvoiceDate  1067371 non-null  object \n",
      " 5   Price        1067371 non-null  float64\n",
      " 6   Customer ID  824364 non-null   float64\n",
      " 7   Country      1067371 non-null  object \n",
      "dtypes: float64(2), int64(1), object(5)\n",
      "memory usage: 65.1+ MB\n"
     ]
    }
   ],
   "source": [
    "df.info()"
   ]
  },
  {
   "cell_type": "code",
   "execution_count": 6,
   "id": "87fee469",
   "metadata": {},
   "outputs": [
    {
     "name": "stdout",
     "output_type": "stream",
     "text": [
      "Invoice             0\n",
      "StockCode           0\n",
      "Description      4382\n",
      "Quantity            0\n",
      "InvoiceDate         0\n",
      "Price               0\n",
      "Customer ID    243007\n",
      "Country             0\n",
      "dtype: int64\n",
      "There are missing values in the dataset.\n"
     ]
    }
   ],
   "source": [
    "# Check for missing values in the entire DataFrame\n",
    "missing_values = df.isnull().sum()\n",
    "\n",
    "# Print the count of missing values for each column\n",
    "print(missing_values)\n",
    "\n",
    "# Check if any missing values exist in the DataFrame\n",
    "if df.isnull().values.any():\n",
    "    print(\"There are missing values in the dataset.\")\n",
    "else:\n",
    "    print(\"There are no missing values in the dataset.\")"
   ]
  },
  {
   "cell_type": "code",
   "execution_count": 7,
   "id": "5d68360e",
   "metadata": {},
   "outputs": [
    {
     "name": "stderr",
     "output_type": "stream",
     "text": [
      "C:\\Users\\kyuta\\anaconda3\\lib\\site-packages\\missingno\\missingno.py:264: RuntimeWarning: overflow encountered in long_scalars\n",
      "  ax2.set_yticklabels([int(n * len(df)) for n in ax1.get_yticks()], fontsize=fontsize)\n",
      "C:\\Users\\kyuta\\anaconda3\\lib\\site-packages\\missingno\\missingno.py:271: RuntimeWarning: overflow encountered in long_scalars\n",
      "  ax2.set_yticklabels([int(n * len(df)) for n in ax1.get_yticks()], fontsize=fontsize)\n"
     ]
    },
    {
     "data": {
      "image/png": "[encoded data removed]",
      "text/plain": [
       "<Figure size 2500x1000 with 4 Axes>"
      ]
     },
     "metadata": {},
     "output_type": "display_data"
    }
   ],
   "source": [
    "# Visualize missing values using a matrix\n",
    "msno.matrix(df)\n",
    "\n",
    "# Visualize missing values using a bar chart\n",
    "msno.bar(df)\n",
    "\n",
    "# Show the plots\n",
    "plt.show()"
   ]
  },
  {
   "cell_type": "code",
   "execution_count": 8,
   "id": "97b48f2a",
   "metadata": {},
   "outputs": [
    {
     "data": {
      "image/png": "[encoded data removed]",
      "text/plain": [
       "<Figure size 640x480 with 1 Axes>"
      ]
     },
     "metadata": {},
     "output_type": "display_data"
    }
   ],
   "source": [
    "# Visualize missing values using a heatmap\n",
    "sns.heatmap(df.isnull(), cbar=False)\n",
    "\n",
    "# Show the plot\n",
    "plt.show()"
   ]
  },
  {
   "cell_type": "code",
   "execution_count": 10,
   "id": "626cf5d0",
   "metadata": {},
   "outputs": [
    {
     "name": "stdout",
     "output_type": "stream",
     "text": [
      "34335\n"
     ]
    }
   ],
   "source": [
    "print(df.duplicated().sum())"
   ]
  },
  {
   "cell_type": "code",
   "execution_count": 11,
   "id": "0bf8963e",
   "metadata": {},
   "outputs": [
    {
     "data": {
      "text/html": [
       "<div>\n",
       "<style scoped>\n",
       "    .dataframe tbody tr th:only-of-type {\n",
       "        vertical-align: middle;\n",
       "    }\n",
       "\n",
       "    .dataframe tbody tr th {\n",
       "        vertical-align: top;\n",
       "    }\n",
       "\n",
       "    .dataframe thead th {\n",
       "        text-align: right;\n",
       "    }\n",
       "</style>\n",
       "<table border=\"1\" class=\"dataframe\">\n",
       "  <thead>\n",
       "    <tr style=\"text-align: right;\">\n",
       "      <th></th>\n",
       "      <th>Invoice</th>\n",
       "      <th>StockCode</th>\n",
       "      <th>Description</th>\n",
       "      <th>Quantity</th>\n",
       "      <th>InvoiceDate</th>\n",
       "      <th>Price</th>\n",
       "      <th>Customer ID</th>\n",
       "      <th>Country</th>\n",
       "    </tr>\n",
       "  </thead>\n",
       "  <tbody>\n",
       "    <tr>\n",
       "      <th>371</th>\n",
       "      <td>489517</td>\n",
       "      <td>21912</td>\n",
       "      <td>VINTAGE SNAKES &amp; LADDERS</td>\n",
       "      <td>1</td>\n",
       "      <td>2009-12-01 11:34:00</td>\n",
       "      <td>3.75</td>\n",
       "      <td>16329.0</td>\n",
       "      <td>United Kingdom</td>\n",
       "    </tr>\n",
       "    <tr>\n",
       "      <th>383</th>\n",
       "      <td>489517</td>\n",
       "      <td>22130</td>\n",
       "      <td>PARTY CONE CHRISTMAS DECORATION</td>\n",
       "      <td>6</td>\n",
       "      <td>2009-12-01 11:34:00</td>\n",
       "      <td>0.85</td>\n",
       "      <td>16329.0</td>\n",
       "      <td>United Kingdom</td>\n",
       "    </tr>\n",
       "    <tr>\n",
       "      <th>384</th>\n",
       "      <td>489517</td>\n",
       "      <td>22319</td>\n",
       "      <td>HAIRCLIPS FORTIES FABRIC ASSORTED</td>\n",
       "      <td>12</td>\n",
       "      <td>2009-12-01 11:34:00</td>\n",
       "      <td>0.65</td>\n",
       "      <td>16329.0</td>\n",
       "      <td>United Kingdom</td>\n",
       "    </tr>\n",
       "    <tr>\n",
       "      <th>385</th>\n",
       "      <td>489517</td>\n",
       "      <td>21913</td>\n",
       "      <td>VINTAGE SEASIDE JIGSAW PUZZLES</td>\n",
       "      <td>1</td>\n",
       "      <td>2009-12-01 11:34:00</td>\n",
       "      <td>3.75</td>\n",
       "      <td>16329.0</td>\n",
       "      <td>United Kingdom</td>\n",
       "    </tr>\n",
       "    <tr>\n",
       "      <th>386</th>\n",
       "      <td>489517</td>\n",
       "      <td>21821</td>\n",
       "      <td>GLITTER STAR GARLAND WITH BELLS</td>\n",
       "      <td>1</td>\n",
       "      <td>2009-12-01 11:34:00</td>\n",
       "      <td>3.75</td>\n",
       "      <td>16329.0</td>\n",
       "      <td>United Kingdom</td>\n",
       "    </tr>\n",
       "  </tbody>\n",
       "</table>\n",
       "</div>"
      ],
      "text/plain": [
       "    Invoice StockCode                        Description  Quantity  \\\n",
       "371  489517     21912           VINTAGE SNAKES & LADDERS         1   \n",
       "383  489517     22130   PARTY CONE CHRISTMAS DECORATION          6   \n",
       "384  489517     22319  HAIRCLIPS FORTIES FABRIC ASSORTED        12   \n",
       "385  489517     21913     VINTAGE SEASIDE JIGSAW PUZZLES         1   \n",
       "386  489517     21821   GLITTER STAR GARLAND WITH BELLS          1   \n",
       "\n",
       "             InvoiceDate  Price  Customer ID         Country  \n",
       "371  2009-12-01 11:34:00   3.75      16329.0  United Kingdom  \n",
       "383  2009-12-01 11:34:00   0.85      16329.0  United Kingdom  \n",
       "384  2009-12-01 11:34:00   0.65      16329.0  United Kingdom  \n",
       "385  2009-12-01 11:34:00   3.75      16329.0  United Kingdom  \n",
       "386  2009-12-01 11:34:00   3.75      16329.0  United Kingdom  "
      ]
     },
     "execution_count": 11,
     "metadata": {},
     "output_type": "execute_result"
    }
   ],
   "source": [
    "df[df.duplicated()].head()"
   ]
  },
  {
   "cell_type": "code",
   "execution_count": 12,
   "id": "b12268c0",
   "metadata": {},
   "outputs": [
    {
     "data": {
      "text/html": [
       "<div>\n",
       "<style scoped>\n",
       "    .dataframe tbody tr th:only-of-type {\n",
       "        vertical-align: middle;\n",
       "    }\n",
       "\n",
       "    .dataframe tbody tr th {\n",
       "        vertical-align: top;\n",
       "    }\n",
       "\n",
       "    .dataframe thead th {\n",
       "        text-align: right;\n",
       "    }\n",
       "</style>\n",
       "<table border=\"1\" class=\"dataframe\">\n",
       "  <thead>\n",
       "    <tr style=\"text-align: right;\">\n",
       "      <th></th>\n",
       "      <th>Invoice</th>\n",
       "      <th>StockCode</th>\n",
       "      <th>Description</th>\n",
       "      <th>Quantity</th>\n",
       "      <th>InvoiceDate</th>\n",
       "      <th>Price</th>\n",
       "      <th>Customer ID</th>\n",
       "      <th>Country</th>\n",
       "    </tr>\n",
       "  </thead>\n",
       "  <tbody>\n",
       "    <tr>\n",
       "      <th>363</th>\n",
       "      <td>489517</td>\n",
       "      <td>21912</td>\n",
       "      <td>VINTAGE SNAKES &amp; LADDERS</td>\n",
       "      <td>1</td>\n",
       "      <td>2009-12-01 11:34:00</td>\n",
       "      <td>3.75</td>\n",
       "      <td>16329.0</td>\n",
       "      <td>United Kingdom</td>\n",
       "    </tr>\n",
       "    <tr>\n",
       "      <th>371</th>\n",
       "      <td>489517</td>\n",
       "      <td>21912</td>\n",
       "      <td>VINTAGE SNAKES &amp; LADDERS</td>\n",
       "      <td>1</td>\n",
       "      <td>2009-12-01 11:34:00</td>\n",
       "      <td>3.75</td>\n",
       "      <td>16329.0</td>\n",
       "      <td>United Kingdom</td>\n",
       "    </tr>\n",
       "    <tr>\n",
       "      <th>394</th>\n",
       "      <td>489517</td>\n",
       "      <td>21912</td>\n",
       "      <td>VINTAGE SNAKES &amp; LADDERS</td>\n",
       "      <td>1</td>\n",
       "      <td>2009-12-01 11:34:00</td>\n",
       "      <td>3.75</td>\n",
       "      <td>16329.0</td>\n",
       "      <td>United Kingdom</td>\n",
       "    </tr>\n",
       "  </tbody>\n",
       "</table>\n",
       "</div>"
      ],
      "text/plain": [
       "    Invoice StockCode               Description  Quantity  \\\n",
       "363  489517     21912  VINTAGE SNAKES & LADDERS         1   \n",
       "371  489517     21912  VINTAGE SNAKES & LADDERS         1   \n",
       "394  489517     21912  VINTAGE SNAKES & LADDERS         1   \n",
       "\n",
       "             InvoiceDate  Price  Customer ID         Country  \n",
       "363  2009-12-01 11:34:00   3.75      16329.0  United Kingdom  \n",
       "371  2009-12-01 11:34:00   3.75      16329.0  United Kingdom  \n",
       "394  2009-12-01 11:34:00   3.75      16329.0  United Kingdom  "
      ]
     },
     "execution_count": 12,
     "metadata": {},
     "output_type": "execute_result"
    }
   ],
   "source": [
    "df.loc[(df[\"Invoice\"].astype(str) == '489517') & (df['StockCode'].astype(str) == '21912')] "
   ]
  },
  {
   "cell_type": "code",
   "execution_count": 13,
   "id": "96109ea4",
   "metadata": {},
   "outputs": [
    {
     "name": "stdout",
     "output_type": "stream",
     "text": [
      "The number of transaction after removing the duplicates: 1033036\n"
     ]
    }
   ],
   "source": [
    "df = df.drop(index=df[df.duplicated()].index)\n",
    "print(\"The number of transaction after removing the duplicates: {0}\".format(df.shape[0]))"
   ]
  },
  {
   "cell_type": "code",
   "execution_count": 14,
   "id": "1fef74ee",
   "metadata": {},
   "outputs": [
    {
     "data": {
      "text/plain": [
       "Invoice             0\n",
       "StockCode           0\n",
       "Description      4275\n",
       "Quantity            0\n",
       "InvoiceDate         0\n",
       "Price               0\n",
       "Customer ID    235151\n",
       "Country             0\n",
       "dtype: int64"
      ]
     },
     "execution_count": 14,
     "metadata": {},
     "output_type": "execute_result"
    }
   ],
   "source": [
    "df.isnull().sum()"
   ]
  },
  {
   "cell_type": "code",
   "execution_count": 15,
   "id": "f97ae9e4",
   "metadata": {},
   "outputs": [
    {
     "data": {
      "text/plain": [
       "count     1033036\n",
       "unique       5305\n",
       "top        85123A\n",
       "freq         5653\n",
       "Name: StockCode, dtype: object"
      ]
     },
     "execution_count": 15,
     "metadata": {},
     "output_type": "execute_result"
    }
   ],
   "source": [
    "df['StockCode'].describe()"
   ]
  },
  {
   "cell_type": "code",
   "execution_count": 16,
   "id": "29fe784d",
   "metadata": {},
   "outputs": [
    {
     "data": {
      "text/plain": [
       "count    1.033036e+06\n",
       "mean     1.007688e+01\n",
       "std      1.751976e+02\n",
       "min     -8.099500e+04\n",
       "25%      1.000000e+00\n",
       "50%      3.000000e+00\n",
       "75%      1.000000e+01\n",
       "max      8.099500e+04\n",
       "Name: Quantity, dtype: float64"
      ]
     },
     "execution_count": 16,
     "metadata": {},
     "output_type": "execute_result"
    }
   ],
   "source": [
    "df['Quantity'].describe()"
   ]
  },
  {
   "cell_type": "code",
   "execution_count": 17,
   "id": "570d2a49",
   "metadata": {},
   "outputs": [
    {
     "data": {
      "text/html": [
       "<div>\n",
       "<style scoped>\n",
       "    .dataframe tbody tr th:only-of-type {\n",
       "        vertical-align: middle;\n",
       "    }\n",
       "\n",
       "    .dataframe tbody tr th {\n",
       "        vertical-align: top;\n",
       "    }\n",
       "\n",
       "    .dataframe thead th {\n",
       "        text-align: right;\n",
       "    }\n",
       "</style>\n",
       "<table border=\"1\" class=\"dataframe\">\n",
       "  <thead>\n",
       "    <tr style=\"text-align: right;\">\n",
       "      <th></th>\n",
       "      <th>Invoice</th>\n",
       "      <th>StockCode</th>\n",
       "      <th>Description</th>\n",
       "      <th>Quantity</th>\n",
       "      <th>InvoiceDate</th>\n",
       "      <th>Price</th>\n",
       "      <th>Customer ID</th>\n",
       "      <th>Country</th>\n",
       "    </tr>\n",
       "  </thead>\n",
       "  <tbody>\n",
       "    <tr>\n",
       "      <th>1065882</th>\n",
       "      <td>581483</td>\n",
       "      <td>23843</td>\n",
       "      <td>PAPER CRAFT , LITTLE BIRDIE</td>\n",
       "      <td>80995</td>\n",
       "      <td>2011-12-09 09:15:00</td>\n",
       "      <td>2.08</td>\n",
       "      <td>16446.0</td>\n",
       "      <td>United Kingdom</td>\n",
       "    </tr>\n",
       "    <tr>\n",
       "      <th>1065883</th>\n",
       "      <td>C581484</td>\n",
       "      <td>23843</td>\n",
       "      <td>PAPER CRAFT , LITTLE BIRDIE</td>\n",
       "      <td>-80995</td>\n",
       "      <td>2011-12-09 09:27:00</td>\n",
       "      <td>2.08</td>\n",
       "      <td>16446.0</td>\n",
       "      <td>United Kingdom</td>\n",
       "    </tr>\n",
       "  </tbody>\n",
       "</table>\n",
       "</div>"
      ],
      "text/plain": [
       "         Invoice StockCode                  Description  Quantity  \\\n",
       "1065882   581483     23843  PAPER CRAFT , LITTLE BIRDIE     80995   \n",
       "1065883  C581484     23843  PAPER CRAFT , LITTLE BIRDIE    -80995   \n",
       "\n",
       "                 InvoiceDate  Price  Customer ID         Country  \n",
       "1065882  2011-12-09 09:15:00   2.08      16446.0  United Kingdom  \n",
       "1065883  2011-12-09 09:27:00   2.08      16446.0  United Kingdom  "
      ]
     },
     "execution_count": 17,
     "metadata": {},
     "output_type": "execute_result"
    }
   ],
   "source": [
    "df.loc[(df['Quantity'] == -8.099500e+04) | (df['Quantity'] == 8.099500e+04)]"
   ]
  },
  {
   "cell_type": "code",
   "execution_count": 19,
   "id": "bb94cb69",
   "metadata": {},
   "outputs": [
    {
     "name": "stdout",
     "output_type": "stream",
     "text": [
      "Cancelled invoices/transactions: 19104\n"
     ]
    }
   ],
   "source": [
    "print(\"Cancelled invoices/transactions: {0}\".format(df[df['Invoice'].astype(str).str[0] == 'C'].shape[0]))"
   ]
  },
  {
   "cell_type": "code",
   "execution_count": 22,
   "id": "8076a8a2",
   "metadata": {},
   "outputs": [
    {
     "data": {
      "text/plain": [
       "count   1033036.00\n",
       "mean          4.61\n",
       "std         122.40\n",
       "min      -53594.36\n",
       "25%           1.25\n",
       "50%           2.10\n",
       "75%           4.15\n",
       "max       38970.00\n",
       "Name: Price, dtype: float64"
      ]
     },
     "execution_count": 22,
     "metadata": {},
     "output_type": "execute_result"
    }
   ],
   "source": [
    "df['Price'].describe()"
   ]
  },
  {
   "cell_type": "code",
   "execution_count": 23,
   "id": "71217000",
   "metadata": {},
   "outputs": [
    {
     "data": {
      "text/html": [
       "<div>\n",
       "<style scoped>\n",
       "    .dataframe tbody tr th:only-of-type {\n",
       "        vertical-align: middle;\n",
       "    }\n",
       "\n",
       "    .dataframe tbody tr th {\n",
       "        vertical-align: top;\n",
       "    }\n",
       "\n",
       "    .dataframe thead th {\n",
       "        text-align: right;\n",
       "    }\n",
       "</style>\n",
       "<table border=\"1\" class=\"dataframe\">\n",
       "  <thead>\n",
       "    <tr style=\"text-align: right;\">\n",
       "      <th></th>\n",
       "      <th>Invoice</th>\n",
       "      <th>StockCode</th>\n",
       "      <th>Description</th>\n",
       "      <th>Quantity</th>\n",
       "      <th>InvoiceDate</th>\n",
       "      <th>Price</th>\n",
       "      <th>Customer ID</th>\n",
       "      <th>Country</th>\n",
       "    </tr>\n",
       "  </thead>\n",
       "  <tbody>\n",
       "    <tr>\n",
       "      <th>179403</th>\n",
       "      <td>A506401</td>\n",
       "      <td>B</td>\n",
       "      <td>Adjust bad debt</td>\n",
       "      <td>1</td>\n",
       "      <td>2010-04-29 13:36:00</td>\n",
       "      <td>-53594.36</td>\n",
       "      <td>NaN</td>\n",
       "      <td>United Kingdom</td>\n",
       "    </tr>\n",
       "    <tr>\n",
       "      <th>276274</th>\n",
       "      <td>A516228</td>\n",
       "      <td>B</td>\n",
       "      <td>Adjust bad debt</td>\n",
       "      <td>1</td>\n",
       "      <td>2010-07-19 11:24:00</td>\n",
       "      <td>-44031.79</td>\n",
       "      <td>NaN</td>\n",
       "      <td>United Kingdom</td>\n",
       "    </tr>\n",
       "    <tr>\n",
       "      <th>403472</th>\n",
       "      <td>A528059</td>\n",
       "      <td>B</td>\n",
       "      <td>Adjust bad debt</td>\n",
       "      <td>1</td>\n",
       "      <td>2010-10-20 12:04:00</td>\n",
       "      <td>-38925.87</td>\n",
       "      <td>NaN</td>\n",
       "      <td>United Kingdom</td>\n",
       "    </tr>\n",
       "    <tr>\n",
       "      <th>825444</th>\n",
       "      <td>A563186</td>\n",
       "      <td>B</td>\n",
       "      <td>Adjust bad debt</td>\n",
       "      <td>1</td>\n",
       "      <td>2011-08-12 14:51:00</td>\n",
       "      <td>-11062.06</td>\n",
       "      <td>NaN</td>\n",
       "      <td>United Kingdom</td>\n",
       "    </tr>\n",
       "    <tr>\n",
       "      <th>825445</th>\n",
       "      <td>A563187</td>\n",
       "      <td>B</td>\n",
       "      <td>Adjust bad debt</td>\n",
       "      <td>1</td>\n",
       "      <td>2011-08-12 14:52:00</td>\n",
       "      <td>-11062.06</td>\n",
       "      <td>NaN</td>\n",
       "      <td>United Kingdom</td>\n",
       "    </tr>\n",
       "  </tbody>\n",
       "</table>\n",
       "</div>"
      ],
      "text/plain": [
       "        Invoice StockCode      Description  Quantity          InvoiceDate  \\\n",
       "179403  A506401         B  Adjust bad debt         1  2010-04-29 13:36:00   \n",
       "276274  A516228         B  Adjust bad debt         1  2010-07-19 11:24:00   \n",
       "403472  A528059         B  Adjust bad debt         1  2010-10-20 12:04:00   \n",
       "825444  A563186         B  Adjust bad debt         1  2011-08-12 14:51:00   \n",
       "825445  A563187         B  Adjust bad debt         1  2011-08-12 14:52:00   \n",
       "\n",
       "           Price  Customer ID         Country  \n",
       "179403 -53594.36          NaN  United Kingdom  \n",
       "276274 -44031.79          NaN  United Kingdom  \n",
       "403472 -38925.87          NaN  United Kingdom  \n",
       "825444 -11062.06          NaN  United Kingdom  \n",
       "825445 -11062.06          NaN  United Kingdom  "
      ]
     },
     "execution_count": 23,
     "metadata": {},
     "output_type": "execute_result"
    }
   ],
   "source": [
    "df[df['Price'] < 0]"
   ]
  },
  {
   "cell_type": "code",
   "execution_count": 24,
   "id": "71d73237",
   "metadata": {},
   "outputs": [
    {
     "data": {
      "text/html": [
       "<div>\n",
       "<style scoped>\n",
       "    .dataframe tbody tr th:only-of-type {\n",
       "        vertical-align: middle;\n",
       "    }\n",
       "\n",
       "    .dataframe tbody tr th {\n",
       "        vertical-align: top;\n",
       "    }\n",
       "\n",
       "    .dataframe thead th {\n",
       "        text-align: right;\n",
       "    }\n",
       "</style>\n",
       "<table border=\"1\" class=\"dataframe\">\n",
       "  <thead>\n",
       "    <tr style=\"text-align: right;\">\n",
       "      <th></th>\n",
       "      <th>Invoice</th>\n",
       "      <th>StockCode</th>\n",
       "      <th>Description</th>\n",
       "      <th>Quantity</th>\n",
       "      <th>InvoiceDate</th>\n",
       "      <th>Price</th>\n",
       "      <th>Customer ID</th>\n",
       "      <th>Country</th>\n",
       "    </tr>\n",
       "  </thead>\n",
       "  <tbody>\n",
       "    <tr>\n",
       "      <th>135012</th>\n",
       "      <td>C502262</td>\n",
       "      <td>M</td>\n",
       "      <td>Manual</td>\n",
       "      <td>-1</td>\n",
       "      <td>2010-03-23 15:20:00</td>\n",
       "      <td>10953.50</td>\n",
       "      <td>12918.00</td>\n",
       "      <td>United Kingdom</td>\n",
       "    </tr>\n",
       "    <tr>\n",
       "      <th>135013</th>\n",
       "      <td>502263</td>\n",
       "      <td>M</td>\n",
       "      <td>Manual</td>\n",
       "      <td>1</td>\n",
       "      <td>2010-03-23 15:22:00</td>\n",
       "      <td>10953.50</td>\n",
       "      <td>12918.00</td>\n",
       "      <td>United Kingdom</td>\n",
       "    </tr>\n",
       "    <tr>\n",
       "      <th>135014</th>\n",
       "      <td>C502264</td>\n",
       "      <td>M</td>\n",
       "      <td>Manual</td>\n",
       "      <td>-1</td>\n",
       "      <td>2010-03-23 15:24:00</td>\n",
       "      <td>10953.50</td>\n",
       "      <td>12918.00</td>\n",
       "      <td>United Kingdom</td>\n",
       "    </tr>\n",
       "    <tr>\n",
       "      <th>135015</th>\n",
       "      <td>502265</td>\n",
       "      <td>M</td>\n",
       "      <td>Manual</td>\n",
       "      <td>1</td>\n",
       "      <td>2010-03-23 15:28:00</td>\n",
       "      <td>10953.50</td>\n",
       "      <td>NaN</td>\n",
       "      <td>United Kingdom</td>\n",
       "    </tr>\n",
       "    <tr>\n",
       "      <th>241824</th>\n",
       "      <td>C512770</td>\n",
       "      <td>M</td>\n",
       "      <td>Manual</td>\n",
       "      <td>-1</td>\n",
       "      <td>2010-06-17 16:52:00</td>\n",
       "      <td>25111.09</td>\n",
       "      <td>17399.00</td>\n",
       "      <td>United Kingdom</td>\n",
       "    </tr>\n",
       "    <tr>\n",
       "      <th>241827</th>\n",
       "      <td>512771</td>\n",
       "      <td>M</td>\n",
       "      <td>Manual</td>\n",
       "      <td>1</td>\n",
       "      <td>2010-06-17 16:53:00</td>\n",
       "      <td>25111.09</td>\n",
       "      <td>NaN</td>\n",
       "      <td>United Kingdom</td>\n",
       "    </tr>\n",
       "    <tr>\n",
       "      <th>320581</th>\n",
       "      <td>C520667</td>\n",
       "      <td>BANK CHARGES</td>\n",
       "      <td>Bank Charges</td>\n",
       "      <td>-1</td>\n",
       "      <td>2010-08-27 13:42:00</td>\n",
       "      <td>18910.69</td>\n",
       "      <td>NaN</td>\n",
       "      <td>United Kingdom</td>\n",
       "    </tr>\n",
       "    <tr>\n",
       "      <th>342135</th>\n",
       "      <td>C522793</td>\n",
       "      <td>M</td>\n",
       "      <td>Manual</td>\n",
       "      <td>-1</td>\n",
       "      <td>2010-09-16 14:53:00</td>\n",
       "      <td>10468.80</td>\n",
       "      <td>14063.00</td>\n",
       "      <td>United Kingdom</td>\n",
       "    </tr>\n",
       "    <tr>\n",
       "      <th>342147</th>\n",
       "      <td>522796</td>\n",
       "      <td>M</td>\n",
       "      <td>Manual</td>\n",
       "      <td>1</td>\n",
       "      <td>2010-09-16 15:12:00</td>\n",
       "      <td>10468.80</td>\n",
       "      <td>NaN</td>\n",
       "      <td>United Kingdom</td>\n",
       "    </tr>\n",
       "    <tr>\n",
       "      <th>358639</th>\n",
       "      <td>524159</td>\n",
       "      <td>M</td>\n",
       "      <td>Manual</td>\n",
       "      <td>1</td>\n",
       "      <td>2010-09-27 16:12:00</td>\n",
       "      <td>10468.80</td>\n",
       "      <td>14063.00</td>\n",
       "      <td>United Kingdom</td>\n",
       "    </tr>\n",
       "    <tr>\n",
       "      <th>358669</th>\n",
       "      <td>C524161</td>\n",
       "      <td>M</td>\n",
       "      <td>Manual</td>\n",
       "      <td>-1</td>\n",
       "      <td>2010-09-27 16:16:00</td>\n",
       "      <td>10468.80</td>\n",
       "      <td>NaN</td>\n",
       "      <td>United Kingdom</td>\n",
       "    </tr>\n",
       "    <tr>\n",
       "      <th>372833</th>\n",
       "      <td>C525398</td>\n",
       "      <td>M</td>\n",
       "      <td>Manual</td>\n",
       "      <td>-1</td>\n",
       "      <td>2010-10-05 11:47:00</td>\n",
       "      <td>10468.80</td>\n",
       "      <td>14063.00</td>\n",
       "      <td>United Kingdom</td>\n",
       "    </tr>\n",
       "    <tr>\n",
       "      <th>372834</th>\n",
       "      <td>525399</td>\n",
       "      <td>M</td>\n",
       "      <td>Manual</td>\n",
       "      <td>1</td>\n",
       "      <td>2010-10-05 11:49:00</td>\n",
       "      <td>10468.80</td>\n",
       "      <td>NaN</td>\n",
       "      <td>United Kingdom</td>\n",
       "    </tr>\n",
       "    <tr>\n",
       "      <th>517953</th>\n",
       "      <td>C537630</td>\n",
       "      <td>AMAZONFEE</td>\n",
       "      <td>AMAZON FEE</td>\n",
       "      <td>-1</td>\n",
       "      <td>2010-12-07 15:04:00</td>\n",
       "      <td>13541.33</td>\n",
       "      <td>NaN</td>\n",
       "      <td>United Kingdom</td>\n",
       "    </tr>\n",
       "    <tr>\n",
       "      <th>517955</th>\n",
       "      <td>537632</td>\n",
       "      <td>AMAZONFEE</td>\n",
       "      <td>AMAZON FEE</td>\n",
       "      <td>1</td>\n",
       "      <td>2010-12-07 15:08:00</td>\n",
       "      <td>13541.33</td>\n",
       "      <td>NaN</td>\n",
       "      <td>United Kingdom</td>\n",
       "    </tr>\n",
       "    <tr>\n",
       "      <th>519170</th>\n",
       "      <td>C537644</td>\n",
       "      <td>AMAZONFEE</td>\n",
       "      <td>AMAZON FEE</td>\n",
       "      <td>-1</td>\n",
       "      <td>2010-12-07 15:34:00</td>\n",
       "      <td>13474.79</td>\n",
       "      <td>NaN</td>\n",
       "      <td>United Kingdom</td>\n",
       "    </tr>\n",
       "    <tr>\n",
       "      <th>519294</th>\n",
       "      <td>C537651</td>\n",
       "      <td>AMAZONFEE</td>\n",
       "      <td>AMAZON FEE</td>\n",
       "      <td>-1</td>\n",
       "      <td>2010-12-07 15:49:00</td>\n",
       "      <td>13541.33</td>\n",
       "      <td>NaN</td>\n",
       "      <td>United Kingdom</td>\n",
       "    </tr>\n",
       "    <tr>\n",
       "      <th>569163</th>\n",
       "      <td>C540117</td>\n",
       "      <td>AMAZONFEE</td>\n",
       "      <td>AMAZON FEE</td>\n",
       "      <td>-1</td>\n",
       "      <td>2011-01-05 09:55:00</td>\n",
       "      <td>16888.02</td>\n",
       "      <td>NaN</td>\n",
       "      <td>United Kingdom</td>\n",
       "    </tr>\n",
       "    <tr>\n",
       "      <th>569164</th>\n",
       "      <td>C540118</td>\n",
       "      <td>AMAZONFEE</td>\n",
       "      <td>AMAZON FEE</td>\n",
       "      <td>-1</td>\n",
       "      <td>2011-01-05 09:57:00</td>\n",
       "      <td>16453.71</td>\n",
       "      <td>NaN</td>\n",
       "      <td>United Kingdom</td>\n",
       "    </tr>\n",
       "    <tr>\n",
       "      <th>748142</th>\n",
       "      <td>C556445</td>\n",
       "      <td>M</td>\n",
       "      <td>Manual</td>\n",
       "      <td>-1</td>\n",
       "      <td>2011-06-10 15:31:00</td>\n",
       "      <td>38970.00</td>\n",
       "      <td>15098.00</td>\n",
       "      <td>United Kingdom</td>\n",
       "    </tr>\n",
       "    <tr>\n",
       "      <th>825443</th>\n",
       "      <td>A563185</td>\n",
       "      <td>B</td>\n",
       "      <td>Adjust bad debt</td>\n",
       "      <td>1</td>\n",
       "      <td>2011-08-12 14:50:00</td>\n",
       "      <td>11062.06</td>\n",
       "      <td>NaN</td>\n",
       "      <td>United Kingdom</td>\n",
       "    </tr>\n",
       "    <tr>\n",
       "      <th>1050062</th>\n",
       "      <td>C580604</td>\n",
       "      <td>AMAZONFEE</td>\n",
       "      <td>AMAZON FEE</td>\n",
       "      <td>-1</td>\n",
       "      <td>2011-12-05 11:35:00</td>\n",
       "      <td>11586.50</td>\n",
       "      <td>NaN</td>\n",
       "      <td>United Kingdom</td>\n",
       "    </tr>\n",
       "    <tr>\n",
       "      <th>1050063</th>\n",
       "      <td>C580605</td>\n",
       "      <td>AMAZONFEE</td>\n",
       "      <td>AMAZON FEE</td>\n",
       "      <td>-1</td>\n",
       "      <td>2011-12-05 11:36:00</td>\n",
       "      <td>17836.46</td>\n",
       "      <td>NaN</td>\n",
       "      <td>United Kingdom</td>\n",
       "    </tr>\n",
       "  </tbody>\n",
       "</table>\n",
       "</div>"
      ],
      "text/plain": [
       "         Invoice     StockCode      Description  Quantity  \\\n",
       "135012   C502262             M           Manual        -1   \n",
       "135013    502263             M           Manual         1   \n",
       "135014   C502264             M           Manual        -1   \n",
       "135015    502265             M           Manual         1   \n",
       "241824   C512770             M           Manual        -1   \n",
       "241827    512771             M           Manual         1   \n",
       "320581   C520667  BANK CHARGES     Bank Charges        -1   \n",
       "342135   C522793             M           Manual        -1   \n",
       "342147    522796             M           Manual         1   \n",
       "358639    524159             M           Manual         1   \n",
       "358669   C524161             M           Manual        -1   \n",
       "372833   C525398             M           Manual        -1   \n",
       "372834    525399             M           Manual         1   \n",
       "517953   C537630     AMAZONFEE       AMAZON FEE        -1   \n",
       "517955    537632     AMAZONFEE       AMAZON FEE         1   \n",
       "519170   C537644     AMAZONFEE       AMAZON FEE        -1   \n",
       "519294   C537651     AMAZONFEE       AMAZON FEE        -1   \n",
       "569163   C540117     AMAZONFEE       AMAZON FEE        -1   \n",
       "569164   C540118     AMAZONFEE       AMAZON FEE        -1   \n",
       "748142   C556445             M           Manual        -1   \n",
       "825443   A563185             B  Adjust bad debt         1   \n",
       "1050062  C580604     AMAZONFEE       AMAZON FEE        -1   \n",
       "1050063  C580605     AMAZONFEE       AMAZON FEE        -1   \n",
       "\n",
       "                 InvoiceDate    Price  Customer ID         Country  \n",
       "135012   2010-03-23 15:20:00 10953.50     12918.00  United Kingdom  \n",
       "135013   2010-03-23 15:22:00 10953.50     12918.00  United Kingdom  \n",
       "135014   2010-03-23 15:24:00 10953.50     12918.00  United Kingdom  \n",
       "135015   2010-03-23 15:28:00 10953.50          NaN  United Kingdom  \n",
       "241824   2010-06-17 16:52:00 25111.09     17399.00  United Kingdom  \n",
       "241827   2010-06-17 16:53:00 25111.09          NaN  United Kingdom  \n",
       "320581   2010-08-27 13:42:00 18910.69          NaN  United Kingdom  \n",
       "342135   2010-09-16 14:53:00 10468.80     14063.00  United Kingdom  \n",
       "342147   2010-09-16 15:12:00 10468.80          NaN  United Kingdom  \n",
       "358639   2010-09-27 16:12:00 10468.80     14063.00  United Kingdom  \n",
       "358669   2010-09-27 16:16:00 10468.80          NaN  United Kingdom  \n",
       "372833   2010-10-05 11:47:00 10468.80     14063.00  United Kingdom  \n",
       "372834   2010-10-05 11:49:00 10468.80          NaN  United Kingdom  \n",
       "517953   2010-12-07 15:04:00 13541.33          NaN  United Kingdom  \n",
       "517955   2010-12-07 15:08:00 13541.33          NaN  United Kingdom  \n",
       "519170   2010-12-07 15:34:00 13474.79          NaN  United Kingdom  \n",
       "519294   2010-12-07 15:49:00 13541.33          NaN  United Kingdom  \n",
       "569163   2011-01-05 09:55:00 16888.02          NaN  United Kingdom  \n",
       "569164   2011-01-05 09:57:00 16453.71          NaN  United Kingdom  \n",
       "748142   2011-06-10 15:31:00 38970.00     15098.00  United Kingdom  \n",
       "825443   2011-08-12 14:50:00 11062.06          NaN  United Kingdom  \n",
       "1050062  2011-12-05 11:35:00 11586.50          NaN  United Kingdom  \n",
       "1050063  2011-12-05 11:36:00 17836.46          NaN  United Kingdom  "
      ]
     },
     "execution_count": 24,
     "metadata": {},
     "output_type": "execute_result"
    }
   ],
   "source": [
    "df[df['Price'] > 10000]"
   ]
  },
  {
   "cell_type": "code",
   "execution_count": 25,
   "id": "7abde01b",
   "metadata": {},
   "outputs": [
    {
     "name": "stdout",
     "output_type": "stream",
     "text": [
      "Transactions with zero unit price: 6014\n"
     ]
    }
   ],
   "source": [
    "print('Transactions with zero unit price: {0}'.format(df[df['Price'] == 0].shape[0]))"
   ]
  },
  {
   "cell_type": "code",
   "execution_count": 26,
   "id": "61f3bd37",
   "metadata": {},
   "outputs": [
    {
     "data": {
      "text/html": [
       "<div>\n",
       "<style scoped>\n",
       "    .dataframe tbody tr th:only-of-type {\n",
       "        vertical-align: middle;\n",
       "    }\n",
       "\n",
       "    .dataframe tbody tr th {\n",
       "        vertical-align: top;\n",
       "    }\n",
       "\n",
       "    .dataframe thead th {\n",
       "        text-align: right;\n",
       "    }\n",
       "</style>\n",
       "<table border=\"1\" class=\"dataframe\">\n",
       "  <thead>\n",
       "    <tr style=\"text-align: right;\">\n",
       "      <th></th>\n",
       "      <th>Invoice</th>\n",
       "      <th>StockCode</th>\n",
       "      <th>Description</th>\n",
       "      <th>Quantity</th>\n",
       "      <th>InvoiceDate</th>\n",
       "      <th>Price</th>\n",
       "      <th>Customer ID</th>\n",
       "      <th>Country</th>\n",
       "    </tr>\n",
       "  </thead>\n",
       "  <tbody>\n",
       "    <tr>\n",
       "      <th>263</th>\n",
       "      <td>489464</td>\n",
       "      <td>21733</td>\n",
       "      <td>85123a mixed</td>\n",
       "      <td>-96</td>\n",
       "      <td>2009-12-01 10:52:00</td>\n",
       "      <td>0.00</td>\n",
       "      <td>NaN</td>\n",
       "      <td>United Kingdom</td>\n",
       "    </tr>\n",
       "    <tr>\n",
       "      <th>283</th>\n",
       "      <td>489463</td>\n",
       "      <td>71477</td>\n",
       "      <td>short</td>\n",
       "      <td>-240</td>\n",
       "      <td>2009-12-01 10:52:00</td>\n",
       "      <td>0.00</td>\n",
       "      <td>NaN</td>\n",
       "      <td>United Kingdom</td>\n",
       "    </tr>\n",
       "    <tr>\n",
       "      <th>284</th>\n",
       "      <td>489467</td>\n",
       "      <td>85123A</td>\n",
       "      <td>21733 mixed</td>\n",
       "      <td>-192</td>\n",
       "      <td>2009-12-01 10:53:00</td>\n",
       "      <td>0.00</td>\n",
       "      <td>NaN</td>\n",
       "      <td>United Kingdom</td>\n",
       "    </tr>\n",
       "    <tr>\n",
       "      <th>470</th>\n",
       "      <td>489521</td>\n",
       "      <td>21646</td>\n",
       "      <td>NaN</td>\n",
       "      <td>-50</td>\n",
       "      <td>2009-12-01 11:44:00</td>\n",
       "      <td>0.00</td>\n",
       "      <td>NaN</td>\n",
       "      <td>United Kingdom</td>\n",
       "    </tr>\n",
       "    <tr>\n",
       "      <th>3114</th>\n",
       "      <td>489655</td>\n",
       "      <td>20683</td>\n",
       "      <td>NaN</td>\n",
       "      <td>-44</td>\n",
       "      <td>2009-12-01 17:26:00</td>\n",
       "      <td>0.00</td>\n",
       "      <td>NaN</td>\n",
       "      <td>United Kingdom</td>\n",
       "    </tr>\n",
       "  </tbody>\n",
       "</table>\n",
       "</div>"
      ],
      "text/plain": [
       "     Invoice StockCode   Description  Quantity          InvoiceDate  Price  \\\n",
       "263   489464     21733  85123a mixed       -96  2009-12-01 10:52:00   0.00   \n",
       "283   489463     71477         short      -240  2009-12-01 10:52:00   0.00   \n",
       "284   489467    85123A   21733 mixed      -192  2009-12-01 10:53:00   0.00   \n",
       "470   489521     21646           NaN       -50  2009-12-01 11:44:00   0.00   \n",
       "3114  489655     20683           NaN       -44  2009-12-01 17:26:00   0.00   \n",
       "\n",
       "      Customer ID         Country  \n",
       "263           NaN  United Kingdom  \n",
       "283           NaN  United Kingdom  \n",
       "284           NaN  United Kingdom  \n",
       "470           NaN  United Kingdom  \n",
       "3114          NaN  United Kingdom  "
      ]
     },
     "execution_count": 26,
     "metadata": {},
     "output_type": "execute_result"
    }
   ],
   "source": [
    "df[df['Price'] == 0].head()"
   ]
  },
  {
   "cell_type": "code",
   "execution_count": 27,
   "id": "9b768776",
   "metadata": {},
   "outputs": [
    {
     "data": {
      "text/plain": [
       "WHITE HANGING HEART T-LIGHT HOLDER    5740\n",
       "REGENCY CAKESTAND 3 TIER              4295\n",
       "JUMBO BAG RED RETROSPOT               3388\n",
       "ASSORTED COLOUR BIRD ORNAMENT         2868\n",
       "PARTY BUNTING                         2730\n",
       "STRAWBERRY CERAMIC TRINKET BOX        2534\n",
       "LUNCH BAG  BLACK SKULL.               2447\n",
       "JUMBO STORAGE BAG SUKI                2387\n",
       "JUMBO SHOPPER VINTAGE RED PAISLEY     2232\n",
       "HEART OF WICKER SMALL                 2219\n",
       "Name: Description, dtype: int64"
      ]
     },
     "execution_count": 27,
     "metadata": {},
     "output_type": "execute_result"
    }
   ],
   "source": [
    "df['Description'].value_counts().sort_values(ascending=False)[:10]"
   ]
  },
  {
   "cell_type": "code",
   "execution_count": 28,
   "id": "f6e58e6c",
   "metadata": {},
   "outputs": [
    {
     "data": {
      "text/plain": [
       "count            1033036\n",
       "unique                43\n",
       "top       United Kingdom\n",
       "freq              948321\n",
       "Name: Country, dtype: object"
      ]
     },
     "execution_count": 28,
     "metadata": {},
     "output_type": "execute_result"
    }
   ],
   "source": [
    "df['Country'].describe()"
   ]
  },
  {
   "cell_type": "code",
   "execution_count": 29,
   "id": "064e2e65",
   "metadata": {},
   "outputs": [
    {
     "name": "stdout",
     "output_type": "stream",
     "text": [
      "Retail transactions after removing missing customer ids: 797885\n"
     ]
    }
   ],
   "source": [
    "df = df.drop(index = df[df['Customer ID'].isnull()].index)\n",
    "print(\"Retail transactions after removing missing customer ids: {0}\".format(df.shape[0]))"
   ]
  },
  {
   "cell_type": "code",
   "execution_count": 30,
   "id": "6e42e9a0",
   "metadata": {},
   "outputs": [],
   "source": [
    "import datetime as dt\n",
    "\n",
    "df['InvoiceDate'] = pd.to_datetime(df['InvoiceDate'])\n",
    "df['Month'] = df['InvoiceDate'].dt.month\n",
    "df['Day'] = df['InvoiceDate'].dt.day\n",
    "df['Hour'] = df['InvoiceDate'].dt.hour"
   ]
  },
  {
   "cell_type": "code",
   "execution_count": 35,
   "id": "1f346a98",
   "metadata": {},
   "outputs": [
    {
     "data": {
      "text/plain": [
       "<Axes: title={'center': 'Hourly Sales'}, xlabel='Hour', ylabel='Quantity'>"
      ]
     },
     "execution_count": 35,
     "metadata": {},
     "output_type": "execute_result"
    },
    {
     "data": {
      "image/png": "[encoded data removed]",
      "text/plain": [
       "<Figure size 640x480 with 1 Axes>"
      ]
     },
     "metadata": {},
     "output_type": "display_data"
    },
    {
     "data": {
      "image/png": "[encoded data removed]",
      "text/plain": [
       "<Figure size 800x600 with 1 Axes>"
      ]
     },
     "metadata": {},
     "output_type": "display_data"
    }
   ],
   "source": [
    "hourly_sales = df[['Hour', 'Quantity']].groupby('Hour').sum()\n",
    "hourly_sales.plot(kind=\"bar\")\n",
    "plt.figure(figsize=(8,6))\n",
    "plt.title(\"Hourly Sales\", fontsize=14)\n",
    "sns.barplot(x = hourly_sales.index, y = hourly_sales['Quantity'])"
   ]
  },
  {
   "cell_type": "code",
   "execution_count": 37,
   "id": "6e6e026b",
   "metadata": {},
   "outputs": [
    {
     "data": {
      "text/plain": [
       "<Axes: title={'center': 'Daily Sales'}, xlabel='Day', ylabel='Quantity'>"
      ]
     },
     "execution_count": 37,
     "metadata": {},
     "output_type": "execute_result"
    },
    {
     "data": {
      "image/png": "[encoded data removed]",
      "text/plain": [
       "<Figure size 1000x800 with 1 Axes>"
      ]
     },
     "metadata": {},
     "output_type": "display_data"
    }
   ],
   "source": [
    "daily_sales = df[['Day', 'Quantity']].groupby('Day').sum()\n",
    "plt.figure(figsize=(10,8))\n",
    "plt.title(\"Daily Sales\", fontsize=14)\n",
    "sns.barplot(x = daily_sales.index, y = daily_sales[\"Quantity\"])"
   ]
  },
  {
   "cell_type": "code",
   "execution_count": 38,
   "id": "2eeb1045",
   "metadata": {},
   "outputs": [
    {
     "data": {
      "text/plain": [
       "<Axes: title={'center': 'Monthly Sales'}, xlabel='Month', ylabel='Quantity'>"
      ]
     },
     "execution_count": 38,
     "metadata": {},
     "output_type": "execute_result"
    },
    {
     "data": {
      "image/png": "[encoded data removed]",
      "text/plain": [
       "<Figure size 800x600 with 1 Axes>"
      ]
     },
     "metadata": {},
     "output_type": "display_data"
    }
   ],
   "source": [
    "monthly_sales = df[['Month','Quantity']].groupby('Month').sum()\n",
    "plt.figure(figsize=(8,6))\n",
    "plt.title(\"Monthly Sales\", fontsize=14)\n",
    "sns.barplot(x = monthly_sales.index, y = monthly_sales['Quantity'])"
   ]
  },
  {
   "cell_type": "code",
   "execution_count": 41,
   "id": "8a5f9e37",
   "metadata": {},
   "outputs": [
    {
     "data": {
      "text/html": [
       "<div>\n",
       "<style scoped>\n",
       "    .dataframe tbody tr th:only-of-type {\n",
       "        vertical-align: middle;\n",
       "    }\n",
       "\n",
       "    .dataframe tbody tr th {\n",
       "        vertical-align: top;\n",
       "    }\n",
       "\n",
       "    .dataframe thead th {\n",
       "        text-align: right;\n",
       "    }\n",
       "</style>\n",
       "<table border=\"1\" class=\"dataframe\">\n",
       "  <thead>\n",
       "    <tr style=\"text-align: right;\">\n",
       "      <th></th>\n",
       "      <th>Days_passed</th>\n",
       "    </tr>\n",
       "    <tr>\n",
       "      <th>Customer ID</th>\n",
       "      <th></th>\n",
       "    </tr>\n",
       "  </thead>\n",
       "  <tbody>\n",
       "    <tr>\n",
       "      <th>12346.00</th>\n",
       "      <td>325</td>\n",
       "    </tr>\n",
       "    <tr>\n",
       "      <th>12347.00</th>\n",
       "      <td>1</td>\n",
       "    </tr>\n",
       "    <tr>\n",
       "      <th>12348.00</th>\n",
       "      <td>74</td>\n",
       "    </tr>\n",
       "    <tr>\n",
       "      <th>12349.00</th>\n",
       "      <td>18</td>\n",
       "    </tr>\n",
       "    <tr>\n",
       "      <th>12350.00</th>\n",
       "      <td>309</td>\n",
       "    </tr>\n",
       "  </tbody>\n",
       "</table>\n",
       "</div>"
      ],
      "text/plain": [
       "             Days_passed\n",
       "Customer ID             \n",
       "12346.00             325\n",
       "12347.00               1\n",
       "12348.00              74\n",
       "12349.00              18\n",
       "12350.00             309"
      ]
     },
     "execution_count": 41,
     "metadata": {},
     "output_type": "execute_result"
    }
   ],
   "source": [
    "# Recency --> The freshness of customer purchase\n",
    "\n",
    "# Calculate latest date from data set\n",
    "max_date = df[\"InvoiceDate\"].max()\n",
    "# Calculate days passed since the last purchase\n",
    "df['Days_passed'] = max_date - df[\"InvoiceDate\"]\n",
    "df[\"Days_passed\"] = df['Days_passed'].dt.days\n",
    "# Group Recency by customer id\n",
    "recency = df[['Customer ID', 'Days_passed']].groupby('Customer ID').min()\n",
    "recency.head(5)"
   ]
  },
  {
   "cell_type": "code",
   "execution_count": 42,
   "id": "4bd85568",
   "metadata": {},
   "outputs": [
    {
     "data": {
      "text/html": [
       "<div>\n",
       "<style scoped>\n",
       "    .dataframe tbody tr th:only-of-type {\n",
       "        vertical-align: middle;\n",
       "    }\n",
       "\n",
       "    .dataframe tbody tr th {\n",
       "        vertical-align: top;\n",
       "    }\n",
       "\n",
       "    .dataframe thead th {\n",
       "        text-align: right;\n",
       "    }\n",
       "</style>\n",
       "<table border=\"1\" class=\"dataframe\">\n",
       "  <thead>\n",
       "    <tr style=\"text-align: right;\">\n",
       "      <th></th>\n",
       "      <th>Invoice</th>\n",
       "    </tr>\n",
       "    <tr>\n",
       "      <th>Customer ID</th>\n",
       "      <th></th>\n",
       "    </tr>\n",
       "  </thead>\n",
       "  <tbody>\n",
       "    <tr>\n",
       "      <th>12346.00</th>\n",
       "      <td>47</td>\n",
       "    </tr>\n",
       "    <tr>\n",
       "      <th>12347.00</th>\n",
       "      <td>222</td>\n",
       "    </tr>\n",
       "    <tr>\n",
       "      <th>12348.00</th>\n",
       "      <td>51</td>\n",
       "    </tr>\n",
       "    <tr>\n",
       "      <th>12349.00</th>\n",
       "      <td>180</td>\n",
       "    </tr>\n",
       "    <tr>\n",
       "      <th>12350.00</th>\n",
       "      <td>17</td>\n",
       "    </tr>\n",
       "  </tbody>\n",
       "</table>\n",
       "</div>"
      ],
      "text/plain": [
       "             Invoice\n",
       "Customer ID         \n",
       "12346.00          47\n",
       "12347.00         222\n",
       "12348.00          51\n",
       "12349.00         180\n",
       "12350.00          17"
      ]
     },
     "execution_count": 42,
     "metadata": {},
     "output_type": "execute_result"
    }
   ],
   "source": [
    "# Frequency of the customer transactions\n",
    "frequency = df[['Customer ID', 'Invoice']].groupby('Customer ID').count()\n",
    "frequency.head()"
   ]
  },
  {
   "cell_type": "code",
   "execution_count": 43,
   "id": "89dfe990",
   "metadata": {},
   "outputs": [
    {
     "data": {
      "text/html": [
       "<div>\n",
       "<style scoped>\n",
       "    .dataframe tbody tr th:only-of-type {\n",
       "        vertical-align: middle;\n",
       "    }\n",
       "\n",
       "    .dataframe tbody tr th {\n",
       "        vertical-align: top;\n",
       "    }\n",
       "\n",
       "    .dataframe thead th {\n",
       "        text-align: right;\n",
       "    }\n",
       "</style>\n",
       "<table border=\"1\" class=\"dataframe\">\n",
       "  <thead>\n",
       "    <tr style=\"text-align: right;\">\n",
       "      <th></th>\n",
       "      <th>SaleAmount</th>\n",
       "    </tr>\n",
       "    <tr>\n",
       "      <th>Customer ID</th>\n",
       "      <th></th>\n",
       "    </tr>\n",
       "  </thead>\n",
       "  <tbody>\n",
       "    <tr>\n",
       "      <th>12346.00</th>\n",
       "      <td>-51.74</td>\n",
       "    </tr>\n",
       "    <tr>\n",
       "      <th>12347.00</th>\n",
       "      <td>4921.53</td>\n",
       "    </tr>\n",
       "    <tr>\n",
       "      <th>12348.00</th>\n",
       "      <td>2019.40</td>\n",
       "    </tr>\n",
       "    <tr>\n",
       "      <th>12349.00</th>\n",
       "      <td>4404.54</td>\n",
       "    </tr>\n",
       "    <tr>\n",
       "      <th>12350.00</th>\n",
       "      <td>334.40</td>\n",
       "    </tr>\n",
       "  </tbody>\n",
       "</table>\n",
       "</div>"
      ],
      "text/plain": [
       "             SaleAmount\n",
       "Customer ID            \n",
       "12346.00         -51.74\n",
       "12347.00        4921.53\n",
       "12348.00        2019.40\n",
       "12349.00        4404.54\n",
       "12350.00         334.40"
      ]
     },
     "execution_count": 43,
     "metadata": {},
     "output_type": "execute_result"
    }
   ],
   "source": [
    "# Monetory -> purchasing power of the customer\n",
    "df['SaleAmount'] = df['Quantity'] * df['Price']\n",
    "monetory = df[['Customer ID', 'SaleAmount']].groupby('Customer ID').sum()\n",
    "monetory.head()"
   ]
  },
  {
   "cell_type": "code",
   "execution_count": 44,
   "id": "955f0247",
   "metadata": {},
   "outputs": [
    {
     "data": {
      "text/html": [
       "<div>\n",
       "<style scoped>\n",
       "    .dataframe tbody tr th:only-of-type {\n",
       "        vertical-align: middle;\n",
       "    }\n",
       "\n",
       "    .dataframe tbody tr th {\n",
       "        vertical-align: top;\n",
       "    }\n",
       "\n",
       "    .dataframe thead th {\n",
       "        text-align: right;\n",
       "    }\n",
       "</style>\n",
       "<table border=\"1\" class=\"dataframe\">\n",
       "  <thead>\n",
       "    <tr style=\"text-align: right;\">\n",
       "      <th></th>\n",
       "      <th>Recency</th>\n",
       "      <th>Frequency</th>\n",
       "      <th>Monetory</th>\n",
       "    </tr>\n",
       "    <tr>\n",
       "      <th>Customer ID</th>\n",
       "      <th></th>\n",
       "      <th></th>\n",
       "      <th></th>\n",
       "    </tr>\n",
       "  </thead>\n",
       "  <tbody>\n",
       "    <tr>\n",
       "      <th>12346.00</th>\n",
       "      <td>325</td>\n",
       "      <td>47</td>\n",
       "      <td>-51.74</td>\n",
       "    </tr>\n",
       "    <tr>\n",
       "      <th>12347.00</th>\n",
       "      <td>1</td>\n",
       "      <td>222</td>\n",
       "      <td>4921.53</td>\n",
       "    </tr>\n",
       "    <tr>\n",
       "      <th>12348.00</th>\n",
       "      <td>74</td>\n",
       "      <td>51</td>\n",
       "      <td>2019.40</td>\n",
       "    </tr>\n",
       "    <tr>\n",
       "      <th>12349.00</th>\n",
       "      <td>18</td>\n",
       "      <td>180</td>\n",
       "      <td>4404.54</td>\n",
       "    </tr>\n",
       "    <tr>\n",
       "      <th>12350.00</th>\n",
       "      <td>309</td>\n",
       "      <td>17</td>\n",
       "      <td>334.40</td>\n",
       "    </tr>\n",
       "  </tbody>\n",
       "</table>\n",
       "</div>"
      ],
      "text/plain": [
       "             Recency  Frequency  Monetory\n",
       "Customer ID                              \n",
       "12346.00         325         47    -51.74\n",
       "12347.00           1        222   4921.53\n",
       "12348.00          74         51   2019.40\n",
       "12349.00          18        180   4404.54\n",
       "12350.00         309         17    334.40"
      ]
     },
     "execution_count": 44,
     "metadata": {},
     "output_type": "execute_result"
    }
   ],
   "source": [
    "# Merge recency, frequency and monetory dataframes\n",
    "RFM = recency.merge(frequency, on='Customer ID').merge(monetory, on=\"Customer ID\")\n",
    "RFM = RFM.rename(columns={\"Days_passed\": 'Recency', 'Invoice': 'Frequency', 'SaleAmount': 'Monetory'})\n",
    "RFM.head()"
   ]
  },
  {
   "cell_type": "markdown",
   "id": "9510edc7",
   "metadata": {},
   "source": [
    "# KMeans clustering"
   ]
  },
  {
   "cell_type": "code",
   "execution_count": 47,
   "id": "2830f170",
   "metadata": {},
   "outputs": [
    {
     "name": "stderr",
     "output_type": "stream",
     "text": [
      "C:\\Users\\kyuta\\anaconda3\\lib\\site-packages\\sklearn\\cluster\\_kmeans.py:870: FutureWarning: The default value of `n_init` will change from 10 to 'auto' in 1.4. Set the value of `n_init` explicitly to suppress the warning\n",
      "  warnings.warn(\n"
     ]
    },
    {
     "name": "stdout",
     "output_type": "stream",
     "text": [
      "for n_clusters = 2 Average Silhouette score =  0.9879564063457438\n"
     ]
    },
    {
     "name": "stderr",
     "output_type": "stream",
     "text": [
      "C:\\Users\\kyuta\\anaconda3\\lib\\site-packages\\sklearn\\cluster\\_kmeans.py:870: FutureWarning: The default value of `n_init` will change from 10 to 'auto' in 1.4. Set the value of `n_init` explicitly to suppress the warning\n",
      "  warnings.warn(\n"
     ]
    },
    {
     "name": "stdout",
     "output_type": "stream",
     "text": [
      "for n_clusters = 3 Average Silhouette score =  0.9768537164723028\n"
     ]
    },
    {
     "name": "stderr",
     "output_type": "stream",
     "text": [
      "C:\\Users\\kyuta\\anaconda3\\lib\\site-packages\\sklearn\\cluster\\_kmeans.py:870: FutureWarning: The default value of `n_init` will change from 10 to 'auto' in 1.4. Set the value of `n_init` explicitly to suppress the warning\n",
      "  warnings.warn(\n"
     ]
    },
    {
     "name": "stdout",
     "output_type": "stream",
     "text": [
      "for n_clusters = 4 Average Silhouette score =  0.9291896435678719\n"
     ]
    },
    {
     "name": "stderr",
     "output_type": "stream",
     "text": [
      "C:\\Users\\kyuta\\anaconda3\\lib\\site-packages\\sklearn\\cluster\\_kmeans.py:870: FutureWarning: The default value of `n_init` will change from 10 to 'auto' in 1.4. Set the value of `n_init` explicitly to suppress the warning\n",
      "  warnings.warn(\n"
     ]
    },
    {
     "name": "stdout",
     "output_type": "stream",
     "text": [
      "for n_clusters = 5 Average Silhouette score =  0.834489962427959\n"
     ]
    },
    {
     "name": "stderr",
     "output_type": "stream",
     "text": [
      "C:\\Users\\kyuta\\anaconda3\\lib\\site-packages\\sklearn\\cluster\\_kmeans.py:870: FutureWarning: The default value of `n_init` will change from 10 to 'auto' in 1.4. Set the value of `n_init` explicitly to suppress the warning\n",
      "  warnings.warn(\n"
     ]
    },
    {
     "name": "stdout",
     "output_type": "stream",
     "text": [
      "for n_clusters = 6 Average Silhouette score =  0.8134523864167492\n"
     ]
    },
    {
     "name": "stderr",
     "output_type": "stream",
     "text": [
      "C:\\Users\\kyuta\\anaconda3\\lib\\site-packages\\sklearn\\cluster\\_kmeans.py:870: FutureWarning: The default value of `n_init` will change from 10 to 'auto' in 1.4. Set the value of `n_init` explicitly to suppress the warning\n",
      "  warnings.warn(\n"
     ]
    },
    {
     "name": "stdout",
     "output_type": "stream",
     "text": [
      "for n_clusters = 7 Average Silhouette score =  0.7522847361830766\n"
     ]
    },
    {
     "name": "stderr",
     "output_type": "stream",
     "text": [
      "C:\\Users\\kyuta\\anaconda3\\lib\\site-packages\\sklearn\\cluster\\_kmeans.py:870: FutureWarning: The default value of `n_init` will change from 10 to 'auto' in 1.4. Set the value of `n_init` explicitly to suppress the warning\n",
      "  warnings.warn(\n"
     ]
    },
    {
     "name": "stdout",
     "output_type": "stream",
     "text": [
      "for n_clusters = 8 Average Silhouette score =  0.7521941985650858\n"
     ]
    }
   ],
   "source": [
    "range_n_clusters = [2,3,4,5,6,7,8]\n",
    "\n",
    "for n_clusters in range_n_clusters:\n",
    "    clusterer = KMeans(n_clusters = n_clusters, random_state=5)\n",
    "    cluster_labels = clusterer.fit_predict(RFM)\n",
    "    \n",
    "    silhouette_avg = silhouette_score(RFM, cluster_labels)\n",
    "    print(\"for n_clusters =\", n_clusters, \"Average Silhouette score = \", silhouette_avg)"
   ]
  },
  {
   "cell_type": "code",
   "execution_count": 48,
   "id": "111a0f07",
   "metadata": {},
   "outputs": [
    {
     "name": "stderr",
     "output_type": "stream",
     "text": [
      "C:\\Users\\kyuta\\anaconda3\\lib\\site-packages\\sklearn\\cluster\\_kmeans.py:870: FutureWarning: The default value of `n_init` will change from 10 to 'auto' in 1.4. Set the value of `n_init` explicitly to suppress the warning\n",
      "  warnings.warn(\n"
     ]
    }
   ],
   "source": [
    "# Kmeans with number of clusters = 4\n",
    "clusterer = KMeans(n_clusters=4, random_state=5)\n",
    "cluster_labels = clusterer.fit_predict(RFM)"
   ]
  },
  {
   "cell_type": "code",
   "execution_count": 49,
   "id": "a30baba9",
   "metadata": {},
   "outputs": [
    {
     "data": {
      "text/html": [
       "<div>\n",
       "<style scoped>\n",
       "    .dataframe tbody tr th:only-of-type {\n",
       "        vertical-align: middle;\n",
       "    }\n",
       "\n",
       "    .dataframe tbody tr th {\n",
       "        vertical-align: top;\n",
       "    }\n",
       "\n",
       "    .dataframe thead th {\n",
       "        text-align: right;\n",
       "    }\n",
       "</style>\n",
       "<table border=\"1\" class=\"dataframe\">\n",
       "  <thead>\n",
       "    <tr style=\"text-align: right;\">\n",
       "      <th></th>\n",
       "      <th>Recency</th>\n",
       "      <th>Frequency</th>\n",
       "      <th>Monetory</th>\n",
       "    </tr>\n",
       "    <tr>\n",
       "      <th>Cluster</th>\n",
       "      <th></th>\n",
       "      <th></th>\n",
       "      <th></th>\n",
       "    </tr>\n",
       "  </thead>\n",
       "  <tbody>\n",
       "    <tr>\n",
       "      <th>0</th>\n",
       "      <td>204.12</td>\n",
       "      <td>116.59</td>\n",
       "      <td>1837.98</td>\n",
       "    </tr>\n",
       "    <tr>\n",
       "      <th>1</th>\n",
       "      <td>6.25</td>\n",
       "      <td>2785.25</td>\n",
       "      <td>195182.23</td>\n",
       "    </tr>\n",
       "    <tr>\n",
       "      <th>2</th>\n",
       "      <td>0.50</td>\n",
       "      <td>2470.00</td>\n",
       "      <td>546861.34</td>\n",
       "    </tr>\n",
       "    <tr>\n",
       "      <th>3</th>\n",
       "      <td>35.55</td>\n",
       "      <td>1314.14</td>\n",
       "      <td>43230.18</td>\n",
       "    </tr>\n",
       "  </tbody>\n",
       "</table>\n",
       "</div>"
      ],
      "text/plain": [
       "         Recency  Frequency  Monetory\n",
       "Cluster                              \n",
       "0         204.12     116.59   1837.98\n",
       "1           6.25    2785.25 195182.23\n",
       "2           0.50    2470.00 546861.34\n",
       "3          35.55    1314.14  43230.18"
      ]
     },
     "execution_count": 49,
     "metadata": {},
     "output_type": "execute_result"
    }
   ],
   "source": [
    "RFM['Cluster'] = cluster_labels\n",
    "RFM.groupby('Cluster').mean()"
   ]
  },
  {
   "cell_type": "markdown",
   "id": "3f67cb8c",
   "metadata": {},
   "source": [
    "Cluster 0 contains group of customers with low value of recency, frequency and monetory <br>\n",
    "Cluster 1 contains group of customers with high frequency value<br>\n",
    "Cluster 2 contains group of customers with high monetory value<br>\n",
    "Cluster 3 contains group of customers with low value of recency and moderate value of frequency and monetory"
   ]
  },
  {
   "cell_type": "markdown",
   "id": "735c6a8f",
   "metadata": {},
   "source": [
    "# Principal component analysis (PCA)"
   ]
  },
  {
   "cell_type": "code",
   "execution_count": 57,
   "id": "56bd3043",
   "metadata": {},
   "outputs": [],
   "source": [
    "# Reduce dimension to 2 with PCA\n",
    "pca = make_pipeline(StandardScaler(),\n",
    "                   PCA(n_components = 2, random_state = 43))\n",
    "RFM_transformed = pca.fit_transform(RFM)"
   ]
  },
  {
   "cell_type": "code",
   "execution_count": 60,
   "id": "aef7d2bf",
   "metadata": {},
   "outputs": [
    {
     "data": {
      "text/plain": [
       "Text(0.5, 1.0, 'Clusters')"
      ]
     },
     "execution_count": 60,
     "metadata": {},
     "output_type": "execute_result"
    },
    {
     "data": {
      "image/png": "[encoded data removed]",
      "text/plain": [
       "<Figure size 1000x800 with 1 Axes>"
      ]
     },
     "metadata": {},
     "output_type": "display_data"
    }
   ],
   "source": [
    "plt.figure(figsize=(10,8))\n",
    "sns.scatterplot(x=RFM_transformed[:, 0], y=RFM_transformed[:, 1], hue=cluster_labels)\n",
    "plt.xlabel('1st Principal Component')\n",
    "plt.ylabel('2nd Principal Component')\n",
    "plt.title(\"Clusters\", fontsize=14)"
   ]
  }
 ],
 "metadata": {
  "kernelspec": {
   "display_name": "Python 3 (ipykernel)",
   "language": "python",
   "name": "python3"
  },
  "language_info": {
   "codemirror_mode": {
    "name": "ipython",
    "version": 3
   },
   "file_extension": ".py",
   "mimetype": "text/x-python",
   "name": "python",
   "nbconvert_exporter": "python",
   "pygments_lexer": "ipython3",
   "version": "3.10.9"
  }
 },
 "nbformat": 4,
 "nbformat_minor": 5
}
